{
  "nbformat": 4,
  "nbformat_minor": 0,
  "metadata": {
    "colab": {
      "name": "DS_101_B1_Day1_Assignment_Shadab.ipynb",
      "provenance": [],
      "collapsed_sections": []
    },
    "kernelspec": {
      "name": "python3",
      "display_name": "Python 3"
    }
  },
  "cells": [
    {
      "cell_type": "markdown",
      "metadata": {
        "id": "UVkNOsa9Y7K_"
      },
      "source": [
        "**DAY 1 Assignment**"
      ]
    },
    {
      "cell_type": "markdown",
      "metadata": {
        "id": "GpGYlfhFZI2q"
      },
      "source": [
        "1. RAINBOW"
      ]
    },
    {
      "cell_type": "code",
      "metadata": {
        "id": "x_FHTpFkZbKS",
        "outputId": "8c3c2234-3b41-45b1-cf9a-844149c68b38",
        "colab": {
          "base_uri": "https://localhost:8080/"
        }
      },
      "source": [
        "# 2.Program to pring LETS UPGRADE\n",
        "\n",
        "print(\"LETS UPGRADE\")"
      ],
      "execution_count": 1,
      "outputs": [
        {
          "output_type": "stream",
          "text": [
            "LETS UPGRADE\n"
          ],
          "name": "stdout"
        }
      ]
    },
    {
      "cell_type": "code",
      "metadata": {
        "id": "tAK2MJISZz2m",
        "outputId": "39ee4770-a182-4b4c-9143-9f671ad90f54",
        "colab": {
          "base_uri": "https://localhost:8080/"
        }
      },
      "source": [
        "# 3. Profit and Loss Program\n",
        "\n",
        "cp = input()\n",
        "sp = input()\n",
        "\n",
        "if cp>sp:\n",
        "  print(\"Loss\")\n",
        "elif cp<sp:\n",
        "  print(\"Profit\")\n",
        "else:\n",
        "  print(\"Neither\") "
      ],
      "execution_count": 5,
      "outputs": [
        {
          "output_type": "stream",
          "text": [
            "23.5\n",
            "44.5\n",
            "Profit\n"
          ],
          "name": "stdout"
        }
      ]
    },
    {
      "cell_type": "code",
      "metadata": {
        "id": "CkPMZ-nmac9C",
        "outputId": "f5d1ee7e-d044-45a9-c7aa-2e998a85d75c",
        "colab": {
          "base_uri": "https://localhost:8080/"
        }
      },
      "source": [
        "# 4. Euro to INR conversion, assuming conversion rate of 1 EUR = 80 INR\n",
        "\n",
        "eur = input()\n",
        "print(int(eur)*80)\n"
      ],
      "execution_count": 8,
      "outputs": [
        {
          "output_type": "stream",
          "text": [
            "2\n",
            "160\n"
          ],
          "name": "stdout"
        }
      ]
    }
  ]
}