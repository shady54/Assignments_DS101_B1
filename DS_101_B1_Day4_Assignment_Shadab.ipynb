{
  "nbformat": 4,
  "nbformat_minor": 0,
  "metadata": {
    "colab": {
      "name": "DS_101_B1_Day4_Assignment_Shadab.ipynb",
      "provenance": []
    },
    "kernelspec": {
      "name": "python3",
      "display_name": "Python 3"
    }
  },
  "cells": [
    {
      "cell_type": "code",
      "metadata": {
        "id": "3lh3GKwagcLD",
        "outputId": "e5c54e86-382a-47e4-bc5e-9cc2bd46a04c",
        "colab": {
          "base_uri": "https://localhost:8080/",
          "height": 35
        }
      },
      "source": [
        "#1. Import Pandas and check the version\n",
        "\n",
        "import pandas as pd\n",
        "\n",
        "pd.__version__"
      ],
      "execution_count": 2,
      "outputs": [
        {
          "output_type": "execute_result",
          "data": {
            "application/vnd.google.colaboratory.intrinsic+json": {
              "type": "string"
            },
            "text/plain": [
              "'1.1.4'"
            ]
          },
          "metadata": {
            "tags": []
          },
          "execution_count": 2
        }
      ]
    },
    {
      "cell_type": "code",
      "metadata": {
        "id": "60OqKAL0hUdp",
        "outputId": "ef04ed9a-8520-47f6-d46a-9fd17d838efa",
        "colab": {
          "base_uri": "https://localhost:8080/"
        }
      },
      "source": [
        "#2. Create a series of numpy array\n",
        "import numpy as np\n",
        "import pandas as pd\n",
        "\n",
        "arr = np.arange(10)\n",
        "\n",
        "ser = pd.Series(arr)\n",
        "print(ser)\n",
        "print()\n",
        "print(type(ser))"
      ],
      "execution_count": 5,
      "outputs": [
        {
          "output_type": "stream",
          "text": [
            "0    0\n",
            "1    1\n",
            "2    2\n",
            "3    3\n",
            "4    4\n",
            "5    5\n",
            "6    6\n",
            "7    7\n",
            "8    8\n",
            "9    9\n",
            "dtype: int64\n",
            "\n",
            "<class 'pandas.core.series.Series'>\n"
          ],
          "name": "stdout"
        }
      ]
    },
    {
      "cell_type": "code",
      "metadata": {
        "id": "MxNbKEFfh0sL",
        "outputId": "1c261e54-ac3e-46b7-cbe7-c059a88a18ca",
        "colab": {
          "base_uri": "https://localhost:8080/"
        }
      },
      "source": [
        "#3. Convert index of a series to column of DataFrame\n",
        "\n",
        "import pandas as pd\n",
        "import numpy as np\n",
        "\n",
        "ser = pd.Series({1:'a',3:'b',5:'c'})\n",
        "\n",
        "df_1 = pd.DataFrame(ser,columns=[\"Content\"])\n",
        "print(df_1)\n",
        "print()\n",
        "df_1.reset_index(inplace=True)\n",
        "print(df_1)"
      ],
      "execution_count": 44,
      "outputs": [
        {
          "output_type": "stream",
          "text": [
            "  Content\n",
            "1       a\n",
            "3       b\n",
            "5       c\n",
            "\n",
            "   index Content\n",
            "0      1       a\n",
            "1      3       b\n",
            "2      5       c\n"
          ],
          "name": "stdout"
        }
      ]
    },
    {
      "cell_type": "code",
      "metadata": {
        "id": "a4k7FR75tt3K",
        "outputId": "d88a8cff-79dd-40cc-dfe6-77fc1d6803e0",
        "colab": {
          "base_uri": "https://localhost:8080/"
        }
      },
      "source": [
        "#4. Code to list all datasets available in seaborn ; Load mpg dataset\n",
        "import seaborn as sns\n",
        "mpg = sns.load_dataset('mpg')\n",
        "print(mpg)\n"
      ],
      "execution_count": 48,
      "outputs": [
        {
          "output_type": "stream",
          "text": [
            "      mpg  cylinders  ...  origin                       name\n",
            "0    18.0          8  ...     usa  chevrolet chevelle malibu\n",
            "1    15.0          8  ...     usa          buick skylark 320\n",
            "2    18.0          8  ...     usa         plymouth satellite\n",
            "3    16.0          8  ...     usa              amc rebel sst\n",
            "4    17.0          8  ...     usa                ford torino\n",
            "..    ...        ...  ...     ...                        ...\n",
            "393  27.0          4  ...     usa            ford mustang gl\n",
            "394  44.0          4  ...  europe                  vw pickup\n",
            "395  32.0          4  ...     usa              dodge rampage\n",
            "396  28.0          4  ...     usa                ford ranger\n",
            "397  31.0          4  ...     usa                 chevy s-10\n",
            "\n",
            "[398 rows x 9 columns]\n"
          ],
          "name": "stdout"
        }
      ]
    },
    {
      "cell_type": "code",
      "metadata": {
        "id": "bsqAd-T02mdB",
        "outputId": "b0fa47b2-2b08-4a60-f5c1-f0f523aee981",
        "colab": {
          "base_uri": "https://localhost:8080/"
        }
      },
      "source": [
        "#5. Which Country origin cars are part of this dataset\n",
        "import seaborn as sns\n",
        "mpg=sns.load_dataset('mpg')\n",
        "mpg.origin.unique()\n"
      ],
      "execution_count": 57,
      "outputs": [
        {
          "output_type": "execute_result",
          "data": {
            "text/plain": [
              "array(['usa', 'japan', 'europe'], dtype=object)"
            ]
          },
          "metadata": {
            "tags": []
          },
          "execution_count": 57
        }
      ]
    },
    {
      "cell_type": "code",
      "metadata": {
        "id": "NfDhUtAs36Kd",
        "outputId": "c2ba6819-bc2c-4df5-97bb-6ec0929ae952",
        "colab": {
          "base_uri": "https://localhost:8080/"
        }
      },
      "source": [
        "#6. Extract part of the dataframe which contains car belonging to 'USA'.\n",
        "\n",
        "import seaborn as sns\n",
        " \n",
        "mpg = sns.load_dataset('mpg')\n",
        "\n",
        "df_USA = mpg[mpg['origin'] == \"usa\"]\n",
        "print(df_USA)"
      ],
      "execution_count": 61,
      "outputs": [
        {
          "output_type": "stream",
          "text": [
            "      mpg  cylinders  ...  origin                       name\n",
            "0    18.0          8  ...     usa  chevrolet chevelle malibu\n",
            "1    15.0          8  ...     usa          buick skylark 320\n",
            "2    18.0          8  ...     usa         plymouth satellite\n",
            "3    16.0          8  ...     usa              amc rebel sst\n",
            "4    17.0          8  ...     usa                ford torino\n",
            "..    ...        ...  ...     ...                        ...\n",
            "392  27.0          4  ...     usa           chevrolet camaro\n",
            "393  27.0          4  ...     usa            ford mustang gl\n",
            "395  32.0          4  ...     usa              dodge rampage\n",
            "396  28.0          4  ...     usa                ford ranger\n",
            "397  31.0          4  ...     usa                 chevy s-10\n",
            "\n",
            "[249 rows x 9 columns]\n"
          ],
          "name": "stdout"
        }
      ]
    }
  ]
}