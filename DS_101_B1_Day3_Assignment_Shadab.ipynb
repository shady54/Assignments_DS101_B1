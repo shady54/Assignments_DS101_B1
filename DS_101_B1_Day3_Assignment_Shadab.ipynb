{
  "nbformat": 4,
  "nbformat_minor": 0,
  "metadata": {
    "colab": {
      "name": "DS_101_B1_Day3_Assignment_Shadab.ipynb",
      "provenance": []
    },
    "kernelspec": {
      "name": "python3",
      "display_name": "Python 3"
    }
  },
  "cells": [
    {
      "cell_type": "code",
      "metadata": {
        "id": "qdDso3-AQqHX",
        "outputId": "d1e1cd77-6fa3-41ba-fd3b-22d920dcb1a4",
        "colab": {
          "base_uri": "https://localhost:8080/"
        }
      },
      "source": [
        "#1. Numpy array starting from 2 till 50 with step size 3\n",
        "\n",
        "import numpy as np\n",
        "\n",
        "l1 = [i for i in range(2,51,3)]\n",
        "arr = np.array(l1)\n",
        "print(arr)\n"
      ],
      "execution_count": 2,
      "outputs": [
        {
          "output_type": "stream",
          "text": [
            "[ 2  5  8 11 14 17 20 23 26 29 32 35 38 41 44 47 50]\n"
          ],
          "name": "stdout"
        }
      ]
    },
    {
      "cell_type": "code",
      "metadata": {
        "id": "r-Ylz7_4SyTc",
        "outputId": "789404d7-b188-47c5-b159-1ad8ad3b614d",
        "colab": {
          "base_uri": "https://localhost:8080/"
        }
      },
      "source": [
        "#2. Accept 2 list of 5 elements from user, convert them into numpy arrays, concatenate and print. Sort and print\n",
        "\n",
        "list_1 = [int(i) for i in input(\"1st list 5 no.s:\").split()]\n",
        "list_2 = [int(i) for i in input(\"2nd list 5 no.s:\").split()]\n",
        "\n",
        "#arr_1 = np.array(list_1)\n",
        "#arr_2 = np.array(list_2)\n",
        "arr_n = np.concatenate((np.array(list_1),np.array(list_2)),axis=0)\n",
        "print(arr_n)\n",
        "print(np.sort(arr_n))\n"
      ],
      "execution_count": 59,
      "outputs": [
        {
          "output_type": "stream",
          "text": [
            "1st list 5 no.s:1 2 3 4 5\n",
            "2nd list 5 no.s:24 43 12 56 12\n",
            "[ 1  2  3  4  5 24 43 12 56 12]\n",
            "[ 1  2  3  4  5 12 12 24 43 56]\n"
          ],
          "name": "stdout"
        }
      ]
    },
    {
      "cell_type": "code",
      "metadata": {
        "id": "E2irvpuPYEk7",
        "outputId": "d34b31b5-7da5-4476-8688-4ad64c61248f",
        "colab": {
          "base_uri": "https://localhost:8080/"
        }
      },
      "source": [
        "#3.Code snippet to find the dimension of ndarray and its size\n",
        "\n",
        "#np.ndim(arr) #dimesion could be understood as the no. of co-ordinates required for reaching the base element.\n",
        "#np.size(arr) #size is the total no. of base elements in an array\n",
        "\n",
        "#Sample eg. \n",
        "arr_dim = np.arange(24)\n",
        "\n",
        "arr2 = arr_dim.reshape(6,4)\n",
        "print(np.ndim(arr2))\n",
        "print(np.size(arr2))\n"
      ],
      "execution_count": 32,
      "outputs": [
        {
          "output_type": "stream",
          "text": [
            "2\n",
            "24\n"
          ],
          "name": "stdout"
        }
      ]
    },
    {
      "cell_type": "code",
      "metadata": {
        "id": "PgyA7za1lgw5",
        "outputId": "bcbcb6c3-7c26-45a1-b1bd-432a08acef9e",
        "colab": {
          "base_uri": "https://localhost:8080/"
        }
      },
      "source": [
        "#4. Convert 1D Array to 2D Array\n",
        "\n",
        "arr_1d = np.arange(8)\n",
        "print(arr_1d,\"Dimesion of the array:\",np.ndim(arr_1d),\"Shape of the array:\",np.shape(arr_1d))\n",
        "\n",
        "print()\n",
        "\n",
        "#using reshape to convert from 1D to 2D\n",
        "arr_2d = arr_1d.reshape(2,4)\n",
        "print(\"RESHAPE \\n\",arr_2d,\"\\n Dimesion of the array:\",np.ndim(arr_2d),\"\\n Shape of the array:\",np.shape(arr_2d))\n",
        "print()\n",
        "\n",
        "#using np.newaxis\n",
        "arr_2D = arr_1d[:,np.newaxis]\n",
        "print(\"NEWAXIS \\n\",arr_2D,\"\\n Dimesion of the array:\",np.ndim(arr_2D),\"\\n Shape of the array:\",np.shape(arr_2D))\n",
        "print()\n",
        "\n",
        "#using np.expand_dims\n",
        "arr_2D1 = np.expand_dims(arr_1d, axis = 0)\n",
        "print(\"EXPAND DIMS \\n\",arr_2D1,\"\\n Dimesion of the array:\",np.ndim(arr_2D1),\"\\n Shape of the array:\",np.shape(arr_2D1))\n"
      ],
      "execution_count": 57,
      "outputs": [
        {
          "output_type": "stream",
          "text": [
            "[0 1 2 3 4 5 6 7] Dimesion of the array: 1 Shape of the array: (8,)\n",
            "\n",
            "RESHAPE \n",
            " [[0 1 2 3]\n",
            " [4 5 6 7]] \n",
            " Dimesion of the array: 2 \n",
            " Shape of the array: (2, 4)\n",
            "\n",
            "NEWAXIS \n",
            " [[0]\n",
            " [1]\n",
            " [2]\n",
            " [3]\n",
            " [4]\n",
            " [5]\n",
            " [6]\n",
            " [7]] \n",
            " Dimesion of the array: 2 \n",
            " Shape of the array: (8, 1)\n",
            "\n",
            "EXPAND DIMS \n",
            " [[0 1 2 3 4 5 6 7]] \n",
            " Dimesion of the array: 2 \n",
            " Shape of the array: (1, 8)\n"
          ],
          "name": "stdout"
        }
      ]
    },
    {
      "cell_type": "code",
      "metadata": {
        "id": "ENkm__-aveE5",
        "outputId": "21d5524f-5295-4f81-b589-7c7b98399a0b",
        "colab": {
          "base_uri": "https://localhost:8080/"
        }
      },
      "source": [
        "#5. 2square NUMPY arrays , stack them horizontally and vertically\n",
        "\n",
        "sqarr1 = np.square(np.array([1,2,3]))\n",
        "sqarr2 = np.square(np.array([4,5,6]))\n",
        "\n",
        "a = np.vstack((sqarr1, sqarr2))\n",
        "b = np.hstack((sqarr1, sqarr2))\n",
        "print(\"Horizontal \\n\",b)\n",
        "print()\n",
        "print(\"Vertical \\n\",a)\n",
        "\n"
      ],
      "execution_count": 85,
      "outputs": [
        {
          "output_type": "stream",
          "text": [
            "Horizontal \n",
            " [ 1  4  9 16 25 36]\n",
            "\n",
            "Vertical \n",
            " [[ 1  4  9]\n",
            " [16 25 36]]\n"
          ],
          "name": "stdout"
        }
      ]
    },
    {
      "cell_type": "code",
      "metadata": {
        "id": "XTQrDEmIDdWw",
        "outputId": "f22def27-18ff-457d-9210-756688d2fb6b",
        "colab": {
          "base_uri": "https://localhost:8080/"
        }
      },
      "source": [
        "#6. Get Unique items and count of unique items\n",
        "\n",
        "arr_u = np.array(input(\"Enter your no.s for array:\").split())\n",
        "\n",
        "arr_temp = np.unique(arr_u)\n",
        "arr_size = np.size(arr_temp)\n",
        "\n",
        "print(arr_temp)\n",
        "print()\n",
        "print(arr_size)\n"
      ],
      "execution_count": 98,
      "outputs": [
        {
          "output_type": "stream",
          "text": [
            "Enter your no.s for array:1 2 2 3 3 232 12 21 12 23\n",
            "['1' '12' '2' '21' '23' '232' '3']\n",
            "\n",
            "7\n"
          ],
          "name": "stdout"
        }
      ]
    },
    {
      "cell_type": "code",
      "metadata": {
        "id": "YhvxMXEbFy2v"
      },
      "source": [
        ""
      ],
      "execution_count": 96,
      "outputs": []
    }
  ]
}