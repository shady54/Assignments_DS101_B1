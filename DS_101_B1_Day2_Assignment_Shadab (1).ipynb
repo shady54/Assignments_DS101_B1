{
  "nbformat": 4,
  "nbformat_minor": 0,
  "metadata": {
    "colab": {
      "name": "DS_101_B1_Day2_Assignment_Shadab.ipynb",
      "provenance": [],
      "collapsed_sections": []
    },
    "kernelspec": {
      "name": "python3",
      "display_name": "Python 3"
    }
  },
  "cells": [
    {
      "cell_type": "markdown",
      "metadata": {
        "id": "JwKJkVQbTt4z"
      },
      "source": [
        "**Day2 Assignment**"
      ]
    },
    {
      "cell_type": "code",
      "metadata": {
        "id": "kGkTYArAT1Go",
        "outputId": "d4421fe5-956e-495c-9b7b-1e89429a48e3",
        "colab": {
          "base_uri": "https://localhost:8080/"
        }
      },
      "source": [
        "#1. Create empty list, take i/p from user(10 numbers) and append to the list if the no.s are even\n",
        "\n",
        "l = []\n",
        "\n",
        "for i in range(0,10):\n",
        "  elem = int(input(\"Enter the no.s:\"))\n",
        "  \n",
        "  if elem%2==0:\n",
        "    l.append(elem)\n",
        "\n",
        "print(l)\n",
        "\n"
      ],
      "execution_count": null,
      "outputs": [
        {
          "output_type": "stream",
          "text": [
            "Enter the no.s:10\n",
            "Enter the no.s:2\n",
            "Enter the no.s:4\n",
            "Enter the no.s:123\n",
            "Enter the no.s:63\n",
            "Enter the no.s:89\n",
            "Enter the no.s:300\n",
            "Enter the no.s:234\n",
            "Enter the no.s:23445\n",
            "Enter the no.s:22\n",
            "[10, 2, 4, 300, 234, 22]\n"
          ],
          "name": "stdout"
        }
      ]
    },
    {
      "cell_type": "markdown",
      "metadata": {
        "id": "y1KcOzbexj07"
      },
      "source": [
        "#2. List Comprehension in Python\n",
        "\n",
        "List comprehension provides a way to create Lists. The Basic application is to create a list, where each element undergoes some operations. It is an easier way of generating list without Loop function.\n",
        "For eg. The question no. 1 could be resolved with the help of a list comprehension method.\n",
        "\n",
        "l = [] #empty list\n",
        "\n",
        "temp_l = list(input(\"Enter 10 numbers:\").split())\n",
        "\n",
        "temp_l2 = [int(i) for i in temp_l]  -- Here we have made use of list comprehension for converting all the inputs to Integer in temp_l list, which is further being used for mod 2 operation for detecting if the list elements are Even or Odd.\n",
        "\n",
        "if len(temp_l2)==10:\n",
        "\n",
        "  for i in temp_l2:  \n",
        "\n",
        "    if i%2==0:\n",
        "       l.append(i)\n",
        "\n",
        "  print(l)\n",
        "\n",
        "else:\n",
        "\n",
        "  print(\"Enter all 10 numbers\")\n",
        "\n",
        "\n",
        "Eg. 2 -  Creating list of squares using list comprehension \n",
        "\n",
        "  list1 = [1,2,3,4]\n",
        "\n",
        "  list_new = [i*i for i in list1]\n",
        "\n",
        "  print(list_new)\n"
      ]
    },
    {
      "cell_type": "code",
      "metadata": {
        "id": "4IKXnK7l9yaF",
        "outputId": "1c52bc3b-83be-495d-d142-aa6117bd5498",
        "colab": {
          "base_uri": "https://localhost:8080/"
        }
      },
      "source": [
        "#3. Print Dictionary based on i/p from user, key:value = i:i*i\n",
        "import math\n",
        "n = int(input())\n",
        "op_dict = {}\n",
        "\n",
        "for i in range(1,n+1):\n",
        "  op_dict[i] = pow(i,2)\n",
        "\n",
        "print(op_dict)\n",
        "\n"
      ],
      "execution_count": null,
      "outputs": [
        {
          "output_type": "stream",
          "text": [
            "4\n",
            "{1: 1, 2: 4, 3: 9, 4: 16}\n"
          ],
          "name": "stdout"
        }
      ]
    },
    {
      "cell_type": "code",
      "metadata": {
        "id": "u_7-BwcJC6_m",
        "outputId": "b05ff720-b8ec-4b03-f1a6-13d7d81b4532",
        "colab": {
          "base_uri": "https://localhost:8080/"
        }
      },
      "source": [
        "#4. Calculate distance between original points to traversed point by robot\n",
        "\n",
        "import math as M\n",
        "\n",
        "#Defining distance calculating function based on all 4 co-ordinates(x,y) and (o1,o2)\n",
        "def co_dist(x,y,o1,o2):\n",
        "  dist = int(round(M.sqrt(pow((x-o1),2) + pow((y-o2),2))))\n",
        "  print(\"Output:\\n\",dist)\n",
        "\n",
        "n = int(input()) #No. of Steps\n",
        "tup = tuple()    #Initial tuple for storing steps and step size\n",
        "list_new = []    #Intial list for collecting all possible combination of steps and step size\n",
        "\n",
        "#initializing the original co-ordinates on 2D plane\n",
        "o1 = 0\n",
        "o2 = 0\n",
        "\n",
        "#Collecting the steps and step size in a tuple and appending to list\n",
        "for i in range(n):\n",
        "  a,b = input().split()\n",
        "  tup = (a.upper(),int(b))\n",
        "  list_new.append(tup)\n",
        "  del tup\n",
        "\n",
        "#initializing counters, x and y co-ordinates for calculation of distance\n",
        "n = 0\n",
        "x = 0\n",
        "y = 0\n",
        "\n",
        "while n <= len(list_new)-1:\n",
        "  if list_new[n][0] == \"UP\":\n",
        "    ud = list_new[n][1]\n",
        "    y = ud+y\n",
        "  elif list_new[n][0] == \"DOWN\":\n",
        "    ud = -(list_new[n][1])\n",
        "    y = ud+y\n",
        "  elif list_new[n][0] == \"RIGHT\":\n",
        "    rl = list_new[n][1]\n",
        "    x = rl+x\n",
        "  elif list_new[n][0] == \"LEFT\":\n",
        "    rl = -(list_new[n][1])\n",
        "    x = rl+x\n",
        "  n = n+1   \n",
        "\n",
        "# call function for dist. calculation\n",
        "co_dist(x,y,o1,o2)\n",
        "\n",
        "\n"
      ],
      "execution_count": null,
      "outputs": [
        {
          "output_type": "stream",
          "text": [
            "1\n",
            "up 3\n",
            "Output:\n",
            " 3\n"
          ],
          "name": "stdout"
        }
      ]
    }
  ]
}